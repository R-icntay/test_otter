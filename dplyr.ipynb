{
  "nbformat": 4,
  "nbformat_minor": 0,
  "metadata": {
    "anaconda-cloud": "",
    "kernelspec": {
      "display_name": "R",
      "langauge": "R",
      "language": "R",
      "name": "ir"
    },
    "language_info": {
      "codemirror_mode": "r",
      "file_extension": ".r",
      "mimetype": "text/x-r-source",
      "name": "R",
      "pygments_lexer": "r",
      "version": "4.1.2"
    },
    "colab": {
      "name": "dplyr.ipynb",
      "provenance": [],
      "toc_visible": true
    }
  },
  "cells": [
    {
      "cell_type": "markdown",
      "metadata": {
        "id": "yttIGF2JL1PP"
      },
      "source": [
        "## **What's in this tutorial?**\n",
        "\n",
        "In this short tutorial, we'll get to learn and practice some basic functions to help you work easily and intuitively with data. You'll learn how to:\n",
        "\n",
        "-   Load packages in R using \n",
        "\n",
        "-   Drop missing values using \n",
        "\n",
        "-   Query whether there are missing values \n",
        "\n",
        "-   Subset unique rows using \n",
        "\n",
        "-   Keep rows that satisfy your conditions using \n",
        "\n",
        "<p >\n",
        "<img src = \"../../images/r_learners_sm.jpeg\", width= 500>\n",
        "\n",
        "\n",
        "\n",
        "Let's get started!\n",
        "\n",
        "## 1. **Meet the Tidyverse and data**\n",
        "\n",
        "Before we can get started doing some Data Science, we typically begin by loading packages into our current R environment and importing data.\n"
      ]
    },
    {
      "cell_type": "code",
      "metadata": {
        "id": "jRpIYEDJL1PU"
      },
      "source": [
        "# Load the Tidyverse\n",
        "library(tidyverse)\n",
        "\n",
        "# Load the library containing the data set\n",
        "library(palmerpenguins)\n",
        "\n",
        "# Print the first few rows of the data\n",
        "head(penguins)\n"
      ],
      "execution_count": null,
      "outputs": []
    },
    {
      "cell_type": "markdown",
      "metadata": {
        "id": "3utg4oMqL1PW"
      },
      "source": [
        "`NA` values represent `Not Available` / `Missing Values`. We'll cover better ways to deal with them later in the course but for now, let's drop them using `drop_na()`\n",
        "\n"
      ]
    },
    {
      "cell_type": "code",
      "metadata": {
        "id": "SBcPeqxVL1PX"
      },
      "source": [
        "# Drop rows containing missing values\n",
        "penguins <- penguins %>%\n",
        "  drop_na()\n"
      ],
      "execution_count": null,
      "outputs": []
    },
    {
      "cell_type": "code",
      "metadata": {
        "id": "CU3Mp1bPL1PY"
      },
      "source": [
        "\n",
        "# Do we still have any missing values?\n",
        "penguins %>% \n",
        "  anyNA()\n"
      ],
      "execution_count": null,
      "outputs": []
    },
    {
      "cell_type": "markdown",
      "metadata": {
        "id": "uvy2elQyL1PY"
      },
      "source": [
        "No missing values! Excellent!\n",
        "\n"
      ]
    },
    {
      "cell_type": "code",
      "metadata": {
        "id": "2ehZjxOFL1PZ"
      },
      "source": [
        "penguins %>% \n",
        "  head()\n"
      ],
      "execution_count": null,
      "outputs": []
    },
    {
      "cell_type": "markdown",
      "metadata": {
        "id": "_HpDKIRBL1PZ"
      },
      "source": [
        "We only see penguins of species `Adelie`. Are there any other species of penguins? To answer this, we use a function/verb in dplyr called `distinct()`. distinct only returns the unique rows in our data:\n",
        "\n"
      ]
    },
    {
      "cell_type": "code",
      "metadata": {
        "id": "8cWGHhCbL1Pa"
      },
      "source": [
        "# What are the different species of penguins in our data?\n",
        "penguins %>% \n",
        "  distinct(species)\n"
      ],
      "execution_count": null,
      "outputs": []
    },
    {
      "cell_type": "markdown",
      "metadata": {
        "id": "VAJI3v05L1Pb"
      },
      "source": [
        "\n"
      ]
    },
    {
      "cell_type": "code",
      "metadata": {
        "id": "fa5SNobOL1Pc"
      },
      "source": [
        "# What are the different islands in our data?\n",
        "penguins %>% \n",
        "  distinct(island)\n"
      ],
      "execution_count": null,
      "outputs": []
    },
    {
      "cell_type": "markdown",
      "metadata": {
        "id": "3zuYHphtL1Pc"
      },
      "source": [
        "Now let's go forth and filter!\n",
        "\n",
        "## 2. filter: keep rows that satisfy your conditions\n",
        "<p >\n",
        "    <img src = \"../../images/dplyr_filter_sm.png\", width = 500>\n",
        "\n",
        "\n",
        "\n",
        "### **Example 1**\n",
        "\n",
        "Make a subset with only chinstrap penguins.\n",
        "\n",
        "In the code below, we **filter** the **penguins** data to only keep rows where the entry for **species** exactly matches \"Adelie\" (case sensitive).\n"
      ]
    },
    {
      "cell_type": "code",
      "metadata": {
        "id": "KLt03Gk4L1Pd"
      },
      "source": [
        "penguins %>% \n",
        "  filter(species == \"Adelie\")\n"
      ],
      "execution_count": null,
      "outputs": []
    },
    {
      "cell_type": "markdown",
      "metadata": {
        "id": "LQqdE3K5L1Pd"
      },
      "source": [
        "Easy, right? We may want to save this to a variable name \"adelie_penguins\". This is how we would go about it.\n",
        "\n"
      ]
    },
    {
      "cell_type": "code",
      "metadata": {
        "id": "D2UmX9_uL1Pd"
      },
      "source": [
        "# Subset data to only obtain Adelie penguins\n",
        "adelie_penguins <- penguins %>% \n",
        "  filter(species == \"Adelie\")\n",
        "\n",
        "# Print the data\n",
        "adelie_penguins %>% \n",
        "  head()\n"
      ],
      "execution_count": null,
      "outputs": []
    },
    {
      "cell_type": "markdown",
      "metadata": {
        "id": "iuA9Y-qeL1Pd"
      },
      "source": [
        "Good job!! Give it a try too.\n",
        "\n",
        "**Question 1: filter** the **penguins** data to only keep rows where the entry for **species** exactly matches \"Chinstrap\". Save this in a variable name `chinstrap_penguins`\n"
      ]
    },
    {
      "cell_type": "code",
      "metadata": {
        "id": "xJJrFkOHL1Pe"
      },
      "source": [
        "chinstrap_penguins <- penguins %>% \n",
        "  filter(species == \"___\")\n",
        "\n",
        "chinstrap_penguins %>% \n",
        "  head()\n"
      ],
      "execution_count": null,
      "outputs": []
    },
    {
      "cell_type": "markdown",
      "metadata": {
        "id": "0l6wwkjTL1Pe"
      },
      "source": [
        "\n"
      ]
    },
    {
      "cell_type": "code",
      "metadata": {
        "id": "mAI_ZMsuL1Pe"
      },
      "source": [
        ". = ottr::check(\"tests/Question 1.R\")\n",
        "\n"
      ],
      "execution_count": null,
      "outputs": []
    },
    {
      "cell_type": "markdown",
      "metadata": {
        "id": "wxL7-GiAL1Pf"
      },
      "source": [
        "### **Example 2**\n",
        "\n",
        "That went well. What if now we wanted to keep rows where species matches \"Chinstrap\" **OR** \"Gentoo\"?\n",
        "\n",
        "We use the \"or\" operator, `|` (the vertical line) when we want to filter rows based on multiple observations in a specific column.\n"
      ]
    },
    {
      "cell_type": "code",
      "metadata": {
        "id": "3gDamRXPL1Pf"
      },
      "source": [
        "# Make a subset only containing Chinstrap and Gentoo penguins\n",
        "penguins %>% \n",
        "  filter(species == \"Chinstrap\" | species == \"Gentoo\")\n"
      ],
      "execution_count": null,
      "outputs": []
    },
    {
      "cell_type": "markdown",
      "metadata": {
        "id": "M575YjjnL1Pg"
      },
      "source": [
        "Now, let's take this a little bit further. What if we wanted to make subsets based on conditions that span different columns? Say we only want to keep observations (rows) where the species is \"Gentoo\" **AND** the island is \"Dream\" - a row should only be retained if both of those conditions are met.\n",
        "\n",
        "There are a number of ways you can write an **and** statement within `filter()`, including:\n",
        "\n",
        "-   A comma between conditions indicates both must be met (`filter(x == \"a\", y == \"b\")`)\n",
        "\n",
        "-   An ampersand between conditions indicates both must be met (`filter(x == \"a\" & y == \"b\")`)\n",
        "\n",
        "We can create a subset starting from penguins that only contains observations for Gentoo penguins on Dream Island as follows:\n"
      ]
    },
    {
      "cell_type": "code",
      "metadata": {
        "id": "GaIFdcfQL1Pg"
      },
      "source": [
        "penguins %>%\n",
        "  filter(species == \"Gentoo\", island == \"Dream\") %>% \n",
        "  head()\n"
      ],
      "execution_count": null,
      "outputs": []
    },
    {
      "cell_type": "markdown",
      "metadata": {
        "id": "tPclmSXCL1Ph"
      },
      "source": [
        "Give it a try yourself.\n",
        "\n",
        "**Question 2:** Create a subset from `penguins` containing observations for **female** **Adelie** penguins on **Dream** or **Torgersen** Islands.\n"
      ]
    },
    {
      "cell_type": "code",
      "metadata": {
        "id": "XRnqXvspL1Ph"
      },
      "source": [
        "penguins_subset <- penguins %>%\n",
        "  filter(sex == \"____\",\n",
        "         \"____\" == \"Adelie\") %>%\n",
        "  filter(\"____\" | \"____\")\n",
        "\n",
        "  \n",
        "\n",
        "penguins_subset %>% \n",
        "  head()\n"
      ],
      "execution_count": null,
      "outputs": []
    },
    {
      "cell_type": "markdown",
      "metadata": {
        "id": "2JOsFMN7L1Pi"
      },
      "source": [
        "\n"
      ]
    },
    {
      "cell_type": "code",
      "metadata": {
        "id": "GDxgty9aL1Pi"
      },
      "source": [
        ". = ottr::check(\"tests/Question 2.R\")\n",
        "\n"
      ],
      "execution_count": null,
      "outputs": []
    },
    {
      "cell_type": "markdown",
      "metadata": {
        "id": "ZDxXgkCfL1Pi"
      },
      "source": [
        "## Wrap up and Resources\n",
        "\n",
        "Fantastic! You just did some data wrangling in R. You learnt how to:\n",
        "\n",
        "-   Load packages in R using `library()`\n",
        "\n",
        "-   Drop missing values using `drop_na()`\n",
        "\n",
        "-   Query whether there are missing values `anyNA()`\n",
        "\n",
        "-   Subset unique rows using `distinct()`\n",
        "\n",
        "-   Keep rows that satisfy your conditions using `filter()`\n",
        "\n",
        "The fun doesn't end here, `dplyr` has a whole bunch of useful verbs:\n",
        "\n",
        "-   `select()`: keep or exclude some columns\n",
        "\n",
        "-   `rename()`: rename columns\n",
        "\n",
        "-   `relocate()`: move columns around\n",
        "\n",
        "-   `mutate()`: add a new column\n",
        "\n",
        "-   `group_by()` + `summarize()`: get summary statistics by group\n",
        "\n",
        "Here are some great places you can learn all about them:\n",
        "\n",
        "-   [dplyr.tidyverse.org](https://dplyr.tidyverse.org/)\n",
        "\n",
        "-   [R for Data Science](https://r4ds.had.co.nz/) by Hadley Wickham and Garrett Grolemund\n",
        "\n",
        "Happy learning!\n"
      ]
    },
    {
      "cell_type": "markdown",
      "metadata": {
        "id": "CJkHrvmML1Pi"
      },
      "source": [
        "\n"
      ]
    }
  ]
}